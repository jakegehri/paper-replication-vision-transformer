{
 "cells": [
  {
   "cell_type": "markdown",
   "id": "4b960815",
   "metadata": {},
   "source": [
    "---\n",
    "title: \"Paper Replication: Vision Transformer\"\n",
    "description: |\n",
    "  The first in a series of paper replications that will collectively lay the foundation for a full replication of the stable diffusion model from scratch.\n",
    "author:\n",
    "  - name: Jake Gehri\n",
    "    url: {}\n",
    "date: \"2022-12-9\"\n",
    "categories: [\"Python\", \"Deep Learning\", \"Computer Vision\"]\n",
    "image: vit.png\n",
    "format: \n",
    "  html:\n",
    "    df-print: paged\n",
    "    toc: true\n",
    "engine: knitr\n",
    "---"
   ]
  },
  {
   "cell_type": "code",
   "execution_count": 311,
   "id": "6c37575d-dcce-466b-b9be-e71830197cb5",
   "metadata": {},
   "outputs": [],
   "source": [
    "import torch\n",
    "import torchvision\n",
    "from torchvision.transforms import ToTensor\n",
    "from torch.utils.data import DataLoader\n",
    "import matplotlib.pyplot as plt\n",
    "from torch import nn\n",
    "from tqdm.auto import tqdm\n",
    "from torchmetrics import Accuracy\n",
    "from torchvision import transforms\n",
    "from torchinfo import summary"
   ]
  },
  {
   "cell_type": "code",
   "execution_count": 252,
   "id": "6c070a85-3ab7-40b0-b834-acf1d5cf550e",
   "metadata": {},
   "outputs": [
    {
     "name": "stdout",
     "output_type": "stream",
     "text": [
      "Files already downloaded and verified\n"
     ]
    }
   ],
   "source": [
    "train_split_len = 1000\n",
    "trainset = torchvision.datasets.CIFAR10(root = 'data', train = True, download=True, transform = ToTensor())\n",
    "part_train = torch.utils.data.random_split(trainset, [train_split_len, len(trainset)-train_split_len])[0]\n",
    "trainloader = DataLoader(part_train, batch_size=25, shuffle=True)"
   ]
  },
  {
   "cell_type": "code",
   "execution_count": 254,
   "id": "3e758afe-a9ed-478e-a456-bac6d4cf8afb",
   "metadata": {},
   "outputs": [
    {
     "name": "stdout",
     "output_type": "stream",
     "text": [
      "Files already downloaded and verified\n"
     ]
    }
   ],
   "source": [
    "test_split_len = 200\n",
    "testset = torchvision.datasets.CIFAR10(root = 'data', train = False, download=True, transform = ToTensor())\n",
    "part_test = torch.utils.data.random_split(testset, [test_split_len, len(testset)-test_split_len])[0]\n",
    "testloader = DataLoader(part_test, batch_size=25, shuffle=True)"
   ]
  },
  {
   "cell_type": "code",
   "execution_count": 255,
   "id": "b895dbf6-a96a-4952-9aab-a0e4ceedda46",
   "metadata": {},
   "outputs": [
    {
     "data": {
      "text/plain": [
       "{'airplane': 0,\n",
       " 'automobile': 1,\n",
       " 'bird': 2,\n",
       " 'cat': 3,\n",
       " 'deer': 4,\n",
       " 'dog': 5,\n",
       " 'frog': 6,\n",
       " 'horse': 7,\n",
       " 'ship': 8,\n",
       " 'truck': 9}"
      ]
     },
     "execution_count": 255,
     "metadata": {},
     "output_type": "execute_result"
    }
   ],
   "source": [
    "classes = testset.class_to_idx\n",
    "classes"
   ]
  },
  {
   "cell_type": "code",
   "execution_count": 256,
   "id": "a4b4071f-6322-40e3-a3c1-ddc44c96ae47",
   "metadata": {},
   "outputs": [],
   "source": [
    "dataiter = iter(trainloader)\n",
    "images, labels = next(dataiter)"
   ]
  },
  {
   "cell_type": "code",
   "execution_count": 257,
   "id": "86f49150-c0d6-4b45-9ef4-d86eb50afcd9",
   "metadata": {},
   "outputs": [
    {
     "data": {
      "text/plain": [
       "(torch.Size([25, 3, 32, 32]), torch.Size([25]))"
      ]
     },
     "execution_count": 257,
     "metadata": {},
     "output_type": "execute_result"
    }
   ],
   "source": [
    "images.shape, labels.shape"
   ]
  },
  {
   "cell_type": "code",
   "execution_count": 258,
   "id": "3e51ad76-8c07-4e93-b081-93d8b2102d1e",
   "metadata": {},
   "outputs": [
    {
     "name": "stdout",
     "output_type": "stream",
     "text": [
      "automobile\n"
     ]
    },
    {
     "data": {
      "text/plain": [
       "<matplotlib.image.AxesImage at 0x7f28e9e29700>"
      ]
     },
     "execution_count": 258,
     "metadata": {},
     "output_type": "execute_result"
    },
    {
     "data": {
      "image/png": "[encoded data removed]",
      "text/plain": [
       "<Figure size 432x288 with 1 Axes>"
      ]
     },
     "metadata": {
      "needs_background": "light"
     },
     "output_type": "display_data"
    }
   ],
   "source": [
    "print(list(classes.keys()) [list(classes.values()).index(1)])\n",
    "plt.imshow(images[1].permute(1,2,0).numpy())"
   ]
  },
  {
   "cell_type": "code",
   "execution_count": 260,
   "id": "de4f3567-a1d5-4aea-bd89-4b0064cf5c15",
   "metadata": {},
   "outputs": [],
   "source": [
    "class LinearProjectionBlock(nn.Module):\n",
    "    def __init__(self, in_channels = 3, patch_size = 2, embedding_dim = 768, batch_size=25, num_patches=256):\n",
    "        super().__init__()\n",
    "        self.patch = nn.Conv2d(in_channels=in_channels, out_channels=embedding_dim, kernel_size=patch_size, stride=patch_size)\n",
    "        self.flatten = nn.Flatten(start_dim=2, end_dim=3)\n",
    "        \n",
    "        self.class_token = nn.Parameter(torch.rand(batch_size, 1, embedding_dim), requires_grad=True)\n",
    "        \n",
    "        self.positional = nn.Parameter(torch.rand(batch_size, num_patches+1, embedding_dim), requires_grad=True)\n",
    "        \n",
    "        \n",
    "    def forward(self, x):\n",
    "        \n",
    "        x = self.patch(x)\n",
    "        x = self.flatten(x)\n",
    "        x = x.permute(0, 2, 1)\n",
    "        x = torch.cat((self.class_token, x), dim=1)\n",
    "        x = self.positional + x\n",
    "        return x\n",
    "        "
   ]
  },
  {
   "cell_type": "code",
   "execution_count": 261,
   "id": "c4b2f050-91f1-4410-8ed0-865073c4f1e6",
   "metadata": {},
   "outputs": [],
   "source": [
    "class MSABlock(nn.Module):\n",
    "    def __init__(self, embedding_dim = 768, num_heads=12):\n",
    "        super().__init__()\n",
    "        self.normalize = nn.LayerNorm(normalized_shape=embedding_dim)\n",
    "        self.msa = nn.MultiheadAttention(embed_dim=embedding_dim, num_heads = num_heads, batch_first=True)\n",
    "        \n",
    "    def forward(self, x):\n",
    "        x = self.normalize(x)\n",
    "        x, _ = self.msa(query=x, key=x, value=x, need_weights=False)\n",
    "        return x"
   ]
  },
  {
   "cell_type": "code",
   "execution_count": 262,
   "id": "34668a98-8703-4f05-8ece-b6001585cf55",
   "metadata": {},
   "outputs": [],
   "source": [
    "lin_projs = LinearProjectionBlock(in_channels=3, patch_size=2, embedding_dim=768, batch_size=25, num_patches=256)"
   ]
  },
  {
   "cell_type": "code",
   "execution_count": 263,
   "id": "d86b5f6a-0721-479c-a493-7dc2fa120e90",
   "metadata": {},
   "outputs": [],
   "source": [
    "projs = lin_projs(images)"
   ]
  },
  {
   "cell_type": "code",
   "execution_count": 264,
   "id": "56f4c3d7-6121-476a-84b4-83054024d58b",
   "metadata": {},
   "outputs": [
    {
     "data": {
      "text/plain": [
       "torch.Size([25, 257, 768])"
      ]
     },
     "execution_count": 264,
     "metadata": {},
     "output_type": "execute_result"
    }
   ],
   "source": [
    "projs.shape"
   ]
  },
  {
   "cell_type": "code",
   "execution_count": 265,
   "id": "18d76219-1ad7-46cb-9ef7-a01d4266d0c7",
   "metadata": {},
   "outputs": [],
   "source": [
    "msa_block = MSABlock(embedding_dim=768, num_heads=12)"
   ]
  },
  {
   "cell_type": "code",
   "execution_count": 266,
   "id": "e2c0fae0-396f-4ec5-8a5c-76bb605a9486",
   "metadata": {},
   "outputs": [],
   "source": [
    "out = msa_block(projs)"
   ]
  },
  {
   "cell_type": "code",
   "execution_count": 267,
   "id": "2f4f4a32-c996-4328-8fe5-6251deb1e962",
   "metadata": {},
   "outputs": [
    {
     "data": {
      "text/plain": [
       "torch.Size([25, 257, 768])"
      ]
     },
     "execution_count": 267,
     "metadata": {},
     "output_type": "execute_result"
    }
   ],
   "source": [
    "out.shape"
   ]
  },
  {
   "cell_type": "code",
   "execution_count": 268,
   "id": "6c445aa4-9dfd-4700-b2f6-8a2fff39aff3",
   "metadata": {},
   "outputs": [],
   "source": [
    "class MLPBlock(nn.Module):\n",
    "    def __init__(self, embedding_dim = 768, mlp_size = 3072):\n",
    "        super().__init__()\n",
    "        self.normalize = nn.LayerNorm(embedding_dim)\n",
    "        \n",
    "        self.mlp = nn.Sequential(\n",
    "            nn.Linear(in_features=embedding_dim, out_features=mlp_size),\n",
    "            nn.GELU(),\n",
    "            nn.Dropout(0.1),\n",
    "            nn.Linear(in_features=mlp_size, out_features=embedding_dim),\n",
    "            nn.Dropout(0.1)\n",
    "        )\n",
    "        \n",
    "    def forward(self, x):\n",
    "        x = self.normalize(x)\n",
    "        x = self.mlp(x)\n",
    "        return x"
   ]
  },
  {
   "cell_type": "code",
   "execution_count": 269,
   "id": "642e35c6-8532-42ae-a5bf-c646a066d593",
   "metadata": {},
   "outputs": [],
   "source": [
    "class TrasformerEncoderBlock(nn.Module):\n",
    "    def __init__(self, embedding_dim = 768, num_heads=12, mlp_size=3072):\n",
    "        super().__init__()\n",
    "        self.msa_block = MSABlock(embedding_dim = embedding_dim, num_heads=num_heads)\n",
    "        \n",
    "        self.mlp_block = MLPBlock(embedding_dim = embedding_dim, mlp_size = mlp_size)\n",
    "        \n",
    "    def forward(self, x):\n",
    "        x = self.msa_block(x)\n",
    "\n",
    "        x = self.mlp_block(x)\n",
    "\n",
    "        return x"
   ]
  },
  {
   "cell_type": "code",
   "execution_count": 270,
   "id": "5ba4d635-1ab0-45dd-9c80-bcd8d7379db7",
   "metadata": {},
   "outputs": [],
   "source": [
    "mlp = MLPBlock(embedding_dim=768)"
   ]
  },
  {
   "cell_type": "code",
   "execution_count": 271,
   "id": "8a5c4e1e-3f33-4d2d-ad1d-577577133e0f",
   "metadata": {},
   "outputs": [],
   "source": [
    "fout = mlp(out)"
   ]
  },
  {
   "cell_type": "code",
   "execution_count": 317,
   "id": "a9af72f4-6fcb-4bff-8f29-eabfe3666e94",
   "metadata": {},
   "outputs": [],
   "source": [
    "class ViT(nn.Module):\n",
    "    def __init__(self, img_size = 32, in_channels = 3, patch_size = 2, embedding_dim = 768, \n",
    "                 batch_size=25, num_patches=256, mlp_size = 3072, layers = 12, num_heads=12, num_classes=10):\n",
    "        super().__init__()\n",
    "        \n",
    "        self.projections = LinearProjectionBlock(in_channels=in_channels, patch_size=patch_size, embedding_dim=embedding_dim, batch_size=batch_size, num_patches=num_patches)\n",
    "        \n",
    "        self.transformer_encoder = nn.TransformerEncoderLayer(d_model=embedding_dim, \n",
    "                                                             nhead=num_heads, \n",
    "                                                             dim_feedforward=mlp_size, \n",
    "                                                             dropout=0.1, \n",
    "                                                             activation=\"gelu\", \n",
    "                                                             batch_first=True, \n",
    "                                                             norm_first=True)\n",
    "        self.encoder_layer = nn.TransformerEncoder(self.transformer_encoder, num_layers=layers)\n",
    "        self.classifier = nn.Sequential(\n",
    "            nn.LayerNorm(normalized_shape=embedding_dim),\n",
    "            nn.Linear(in_features=embedding_dim, out_features=num_classes)\n",
    "        \n",
    "        )\n",
    "    \n",
    "    def forward(self, x, layers=12):\n",
    "        x = self.projections(x)\n",
    "        x = self.encoder_layer(x)\n",
    "        x = self.classifier(x[:, 0])\n",
    "        return x\n",
    "        "
   ]
  },
  {
   "cell_type": "code",
   "execution_count": 318,
   "id": "9fcd45eb-6de8-4b23-8f33-bb3ac4a19b52",
   "metadata": {},
   "outputs": [],
   "source": [
    "vit = ViT(in_channels = 3, patch_size = 4, embedding_dim = 768, batch_size=25, num_patches=64, mlp_size = 2048).to('cuda')"
   ]
  },
  {
   "cell_type": "code",
   "execution_count": 319,
   "id": "e1f32680-7003-4bc8-a1c1-b2cfe15f00e7",
   "metadata": {},
   "outputs": [
    {
     "data": {
      "text/plain": [
       "======================================================================\n",
       "Layer (type:depth-idx)                        Input Shape\n",
       "======================================================================\n",
       "ViT                                           [25, 3, 32, 32]\n",
       "├─LinearProjectionBlock: 1-1                  [25, 3, 32, 32]\n",
       "│    └─Conv2d: 2-1                            [25, 3, 32, 32]\n",
       "│    └─Flatten: 2-2                           [25, 768, 8, 8]\n",
       "├─TransformerEncoder: 1-2                     [25, 65, 768]\n",
       "│    └─ModuleList: 2-3                        --\n",
       "│    │    └─TransformerEncoderLayer: 3-1      [25, 65, 768]\n",
       "│    │    └─TransformerEncoderLayer: 3-2      [25, 65, 768]\n",
       "│    │    └─TransformerEncoderLayer: 3-3      [25, 65, 768]\n",
       "│    │    └─TransformerEncoderLayer: 3-4      [25, 65, 768]\n",
       "│    │    └─TransformerEncoderLayer: 3-5      [25, 65, 768]\n",
       "│    │    └─TransformerEncoderLayer: 3-6      [25, 65, 768]\n",
       "│    │    └─TransformerEncoderLayer: 3-7      [25, 65, 768]\n",
       "│    │    └─TransformerEncoderLayer: 3-8      [25, 65, 768]\n",
       "│    │    └─TransformerEncoderLayer: 3-9      [25, 65, 768]\n",
       "│    │    └─TransformerEncoderLayer: 3-10     [25, 65, 768]\n",
       "│    │    └─TransformerEncoderLayer: 3-11     [25, 65, 768]\n",
       "│    │    └─TransformerEncoderLayer: 3-12     [25, 65, 768]\n",
       "├─Sequential: 1-3                             [25, 768]\n",
       "│    └─LayerNorm: 2-4                         [25, 768]\n",
       "│    └─Linear: 2-5                            [25, 768]\n",
       "======================================================================\n",
       "Total params: 72,995,850\n",
       "Trainable params: 72,995,850\n",
       "Non-trainable params: 0\n",
       "Total mult-adds (G): 1.01\n",
       "======================================================================\n",
       "Input size (MB): 0.31\n",
       "Forward/backward pass size (MB): 688.90\n",
       "Params size (MB): 151.47\n",
       "Estimated Total Size (MB): 840.67\n",
       "======================================================================"
      ]
     },
     "execution_count": 319,
     "metadata": {},
     "output_type": "execute_result"
    }
   ],
   "source": [
    "summary(vit, input_size=(25, 3, 32, 32),col_names=[\"input_size\"])"
   ]
  },
  {
   "cell_type": "code",
   "execution_count": 320,
   "id": "d89dc2de-cce1-49bb-b717-bc244d4875cb",
   "metadata": {},
   "outputs": [],
   "source": [
    "test_output = vit(images.to('cuda'))"
   ]
  },
  {
   "cell_type": "code",
   "execution_count": 321,
   "id": "1c9d3e6b-6027-4708-a26f-c2b33824e273",
   "metadata": {},
   "outputs": [
    {
     "data": {
      "text/plain": [
       "torch.Size([25, 10])"
      ]
     },
     "execution_count": 321,
     "metadata": {},
     "output_type": "execute_result"
    }
   ],
   "source": [
    "test_output.shape"
   ]
  },
  {
   "cell_type": "code",
   "execution_count": 322,
   "id": "883b454f-2278-4fb4-ba08-58640a50b2ce",
   "metadata": {},
   "outputs": [
    {
     "data": {
      "text/plain": [
       "(tensor(0, device='cuda:0'), tensor(9))"
      ]
     },
     "execution_count": 322,
     "metadata": {},
     "output_type": "execute_result"
    }
   ],
   "source": [
    "torch.argmax(test_output[1]), labels[1]"
   ]
  },
  {
   "cell_type": "code",
   "execution_count": 323,
   "id": "2e8d76ff-88d7-41c3-94c6-a53f8572a9c4",
   "metadata": {},
   "outputs": [],
   "source": [
    "loss_fn = nn.CrossEntropyLoss()\n",
    "optimizer = torch.optim.Adam(vit.parameters(), lr=1e-3, betas=(0.9, 0.999), weight_decay=0.1)\n",
    "accuracy = Accuracy(task=\"multiclass\", num_classes=10)"
   ]
  },
  {
   "cell_type": "code",
   "execution_count": 324,
   "id": "e01b992b-1bab-418b-a3d1-1a8be65025c8",
   "metadata": {},
   "outputs": [],
   "source": [
    "def train_step(model, dataloader, loss_fn, optimizer):\n",
    "    model.train()\n",
    "    \n",
    "    train_loss, train_acc = 0, 0\n",
    "    \n",
    "    for batch, (X, y) in enumerate(dataloader):\n",
    "        X, y = X.to('cuda'), y.to('cuda')\n",
    "\n",
    "        y_pred = model(X)\n",
    "\n",
    "        loss = loss_fn(y_pred, y)\n",
    "        train_loss += loss.item() \n",
    "\n",
    "        optimizer.zero_grad()\n",
    "\n",
    "        loss.backward()\n",
    "\n",
    "        optimizer.step()\n",
    "\n",
    "        y_pred_class = torch.argmax(torch.softmax(y_pred, dim=1), dim=1)\n",
    "        train_acc += (y_pred_class == y).sum().item()/len(y_pred)\n",
    "\n",
    "    train_loss = train_loss / len(dataloader)\n",
    "    train_acc = train_acc / len(dataloader)\n",
    "    return train_loss, train_acc"
   ]
  },
  {
   "cell_type": "code",
   "execution_count": 325,
   "id": "1e4d5b20-64df-4c4f-a9c7-04220e280d45",
   "metadata": {},
   "outputs": [],
   "source": [
    "def test_step(model, dataloader, loss_fn):\n",
    "    \n",
    "    model.eval() \n",
    "    \n",
    "    test_loss, test_acc = 0, 0\n",
    "    \n",
    "    with torch.inference_mode():\n",
    "        for batch, (X, y) in enumerate(dataloader):\n",
    "            X, y = X.to('cuda'), y.to('cuda')\n",
    "    \n",
    "            test_pred_logits = model(X)\n",
    "\n",
    "            loss = loss_fn(test_pred_logits, y)\n",
    "            test_loss += loss.item()\n",
    "            \n",
    "            test_pred_labels = test_pred_logits.argmax(dim=1)\n",
    "            test_acc += ((test_pred_labels == y).sum().item()/len(test_pred_labels))\n",
    "            \n",
    "    test_loss = test_loss / len(dataloader)\n",
    "    test_acc = test_acc / len(dataloader)\n",
    "    return test_loss, test_acc"
   ]
  },
  {
   "cell_type": "code",
   "execution_count": null,
   "id": "295b89c2-941e-4eff-98a0-71325088c730",
   "metadata": {},
   "outputs": [],
   "source": [
    "def train(model,train_dataloader,test_dataloader, optimizer, loss_fn, epochs = 50):\n",
    "    \n",
    "    results = {\"train_loss\": [],\n",
    "        \"train_acc\": [],\n",
    "        \"test_loss\": [],\n",
    "        \"test_acc\": []\n",
    "    }\n",
    "    \n",
    "    for epoch in tqdm(range(epochs)):\n",
    "        train_loss, train_acc = train_step(model=model,\n",
    "                                           dataloader=train_dataloader,\n",
    "                                           loss_fn=loss_fn,\n",
    "                                           optimizer=optimizer)\n",
    "        test_loss, test_acc = test_step(model=model,\n",
    "            dataloader=test_dataloader,\n",
    "            loss_fn=loss_fn)\n",
    "        \n",
    "        print(\n",
    "            f\"Epoch: {epoch+1} | \"\n",
    "            f\"train_loss: {train_loss:.4f} | \"\n",
    "            f\"train_acc: {train_acc:.4f} | \"\n",
    "            f\"test_loss: {test_loss:.4f} | \"\n",
    "            f\"test_acc: {test_acc:.4f}\"\n",
    "        )\n",
    "\n",
    "        results[\"train_loss\"].append(train_loss)\n",
    "        results[\"train_acc\"].append(train_acc)\n",
    "        results[\"test_loss\"].append(test_loss)\n",
    "        results[\"test_acc\"].append(test_acc)\n",
    "\n",
    "    return results"
   ]
  },
  {
   "cell_type": "code",
   "execution_count": 328,
   "id": "50d89619-8a11-4e82-95b0-146b2678cb97",
   "metadata": {},
   "outputs": [
    {
     "data": {
      "application/vnd.jupyter.widget-view+json": {
       "model_id": "ab2d364746904daeb339ce6afa71ddf7",
       "version_major": 2,
       "version_minor": 0
      },
      "text/plain": [
       "  0%|          | 0/50 [00:00<?, ?it/s]"
      ]
     },
     "metadata": {},
     "output_type": "display_data"
    },
    {
     "name": "stdout",
     "output_type": "stream",
     "text": [
      "Epoch: 1 | train_loss: 2.3983 | train_acc: 0.1070 | test_loss: 2.3546 | test_acc: 0.0750\n",
      "Epoch: 2 | train_loss: 2.4793 | train_acc: 0.1120 | test_loss: 2.4665 | test_acc: 0.1100\n",
      "Epoch: 3 | train_loss: 2.4430 | train_acc: 0.1060 | test_loss: 2.3757 | test_acc: 0.0900\n",
      "Epoch: 4 | train_loss: 2.3699 | train_acc: 0.1010 | test_loss: 2.3697 | test_acc: 0.1050\n",
      "Epoch: 5 | train_loss: 2.3734 | train_acc: 0.1100 | test_loss: 2.3556 | test_acc: 0.1450\n",
      "Epoch: 6 | train_loss: 2.3820 | train_acc: 0.0850 | test_loss: 2.3614 | test_acc: 0.0800\n",
      "Epoch: 7 | train_loss: 2.3696 | train_acc: 0.0810 | test_loss: 2.3599 | test_acc: 0.1000\n",
      "Epoch: 8 | train_loss: 2.3491 | train_acc: 0.0960 | test_loss: 2.3836 | test_acc: 0.1200\n",
      "Epoch: 9 | train_loss: 2.3625 | train_acc: 0.1030 | test_loss: 2.3677 | test_acc: 0.0500\n",
      "Epoch: 10 | train_loss: 2.3425 | train_acc: 0.1120 | test_loss: 2.3327 | test_acc: 0.1100\n",
      "Epoch: 11 | train_loss: 2.3501 | train_acc: 0.1020 | test_loss: 2.3617 | test_acc: 0.1050\n",
      "Epoch: 12 | train_loss: 2.3455 | train_acc: 0.0840 | test_loss: 2.3424 | test_acc: 0.0800\n",
      "Epoch: 13 | train_loss: 2.3293 | train_acc: 0.1050 | test_loss: 2.3220 | test_acc: 0.1400\n",
      "Epoch: 14 | train_loss: 2.3237 | train_acc: 0.0930 | test_loss: 2.3216 | test_acc: 0.1150\n",
      "Epoch: 15 | train_loss: 2.3416 | train_acc: 0.0970 | test_loss: 2.3089 | test_acc: 0.1350\n",
      "Epoch: 16 | train_loss: 2.3387 | train_acc: 0.0750 | test_loss: 2.3197 | test_acc: 0.0900\n",
      "Epoch: 17 | train_loss: 2.3219 | train_acc: 0.0990 | test_loss: 2.3107 | test_acc: 0.0900\n",
      "Epoch: 18 | train_loss: 2.3260 | train_acc: 0.1070 | test_loss: 2.3100 | test_acc: 0.1100\n",
      "Epoch: 19 | train_loss: 2.3187 | train_acc: 0.1010 | test_loss: 2.3043 | test_acc: 0.1000\n",
      "Epoch: 20 | train_loss: 2.3256 | train_acc: 0.1060 | test_loss: 2.3108 | test_acc: 0.1300\n",
      "Epoch: 21 | train_loss: 2.3152 | train_acc: 0.1050 | test_loss: 2.3279 | test_acc: 0.1150\n",
      "Epoch: 22 | train_loss: 2.3160 | train_acc: 0.1070 | test_loss: 2.3138 | test_acc: 0.1100\n",
      "Epoch: 23 | train_loss: 2.3145 | train_acc: 0.1120 | test_loss: 2.3058 | test_acc: 0.0800\n",
      "Epoch: 24 | train_loss: 2.3119 | train_acc: 0.0900 | test_loss: 2.3030 | test_acc: 0.1450\n",
      "Epoch: 25 | train_loss: 2.3168 | train_acc: 0.0940 | test_loss: 2.3119 | test_acc: 0.0950\n",
      "Epoch: 26 | train_loss: 2.3111 | train_acc: 0.0950 | test_loss: 2.3132 | test_acc: 0.0650\n",
      "Epoch: 27 | train_loss: 2.3035 | train_acc: 0.1120 | test_loss: 2.3098 | test_acc: 0.0700\n",
      "Epoch: 28 | train_loss: 2.3060 | train_acc: 0.1150 | test_loss: 2.3021 | test_acc: 0.1250\n",
      "Epoch: 29 | train_loss: 2.3059 | train_acc: 0.1050 | test_loss: 2.3005 | test_acc: 0.0950\n",
      "Epoch: 30 | train_loss: 2.3072 | train_acc: 0.1010 | test_loss: 2.3023 | test_acc: 0.0800\n",
      "Epoch: 31 | train_loss: 2.3089 | train_acc: 0.0980 | test_loss: 2.3047 | test_acc: 0.0950\n",
      "Epoch: 32 | train_loss: 2.3053 | train_acc: 0.1050 | test_loss: 2.3046 | test_acc: 0.0850\n",
      "Epoch: 33 | train_loss: 2.3035 | train_acc: 0.1070 | test_loss: 2.3072 | test_acc: 0.0600\n",
      "Epoch: 34 | train_loss: 2.3030 | train_acc: 0.1120 | test_loss: 2.3081 | test_acc: 0.1000\n",
      "Epoch: 35 | train_loss: 2.3018 | train_acc: 0.1110 | test_loss: 2.2997 | test_acc: 0.1250\n",
      "Epoch: 36 | train_loss: 2.3030 | train_acc: 0.1090 | test_loss: 2.3014 | test_acc: 0.1000\n",
      "Epoch: 37 | train_loss: 2.3032 | train_acc: 0.0990 | test_loss: 2.2988 | test_acc: 0.1000\n",
      "Epoch: 38 | train_loss: 2.3023 | train_acc: 0.1120 | test_loss: 2.3021 | test_acc: 0.1000\n",
      "Epoch: 39 | train_loss: 2.3024 | train_acc: 0.1140 | test_loss: 2.3017 | test_acc: 0.1000\n",
      "Epoch: 40 | train_loss: 2.3012 | train_acc: 0.1140 | test_loss: 2.3006 | test_acc: 0.1000\n",
      "Epoch: 41 | train_loss: 2.3017 | train_acc: 0.1170 | test_loss: 2.3014 | test_acc: 0.1000\n",
      "Epoch: 42 | train_loss: 2.3007 | train_acc: 0.1140 | test_loss: 2.3011 | test_acc: 0.1000\n",
      "Epoch: 43 | train_loss: 2.3022 | train_acc: 0.1110 | test_loss: 2.3002 | test_acc: 0.1000\n",
      "Epoch: 44 | train_loss: 2.3013 | train_acc: 0.1140 | test_loss: 2.3010 | test_acc: 0.1000\n",
      "Epoch: 45 | train_loss: 2.3013 | train_acc: 0.1140 | test_loss: 2.3011 | test_acc: 0.1000\n",
      "Epoch: 46 | train_loss: 2.3014 | train_acc: 0.1140 | test_loss: 2.3008 | test_acc: 0.1000\n",
      "Epoch: 47 | train_loss: 2.3011 | train_acc: 0.1140 | test_loss: 2.3010 | test_acc: 0.1000\n",
      "Epoch: 48 | train_loss: 2.3013 | train_acc: 0.1140 | test_loss: 2.3011 | test_acc: 0.1000\n",
      "Epoch: 49 | train_loss: 2.3013 | train_acc: 0.1140 | test_loss: 2.3012 | test_acc: 0.1000\n",
      "Epoch: 50 | train_loss: 2.3009 | train_acc: 0.1140 | test_loss: 2.3014 | test_acc: 0.1000\n"
     ]
    }
   ],
   "source": [
    "results = train(model=vit, train_dataloader=trainloader, test_dataloader=testloader, optimizer=optimizer, loss_fn=loss_fn, epochs=50)"
   ]
  },
  {
   "cell_type": "code",
   "execution_count": 329,
   "id": "6c808ca4-207e-4ec0-a5e3-d3c7e328f6b9",
   "metadata": {},
   "outputs": [
    {
     "data": {
      "text/plain": [
       "[<matplotlib.lines.Line2D at 0x7f28e90c5160>]"
      ]
     },
     "execution_count": 329,
     "metadata": {},
     "output_type": "execute_result"
    },
    {
     "data": {
      "image/png": "[encoded data removed]",
      "text/plain": [
       "<Figure size 432x288 with 1 Axes>"
      ]
     },
     "metadata": {
      "needs_background": "light"
     },
     "output_type": "display_data"
    }
   ],
   "source": [
    "plt.plot(results['train_loss'])\n",
    "plt.plot(results['test_loss'])"
   ]
  },
  {
   "cell_type": "code",
   "execution_count": 330,
   "id": "f8e631ba-bb59-47dc-9b97-39b733cbcc6e",
   "metadata": {},
   "outputs": [
    {
     "data": {
      "text/plain": [
       "[<matplotlib.lines.Line2D at 0x7f28e9091e80>]"
      ]
     },
     "execution_count": 330,
     "metadata": {},
     "output_type": "execute_result"
    },
    {
     "data": {
      "image/png": "[encoded data removed]",
      "text/plain": [
       "<Figure size 432x288 with 1 Axes>"
      ]
     },
     "metadata": {
      "needs_background": "light"
     },
     "output_type": "display_data"
    }
   ],
   "source": [
    "plt.plot(results['train_acc'])"
   ]
  },
  {
   "cell_type": "code",
   "execution_count": null,
   "id": "2c253e98-3e2f-47db-ad02-0b3b70113770",
   "metadata": {},
   "outputs": [],
   "source": []
  }
 ],
 "metadata": {
  "kernelspec": {
   "display_name": "Python 3 (ipykernel)",
   "language": "python",
   "name": "python3"
  },
  "language_info": {
   "codemirror_mode": {
    "name": "ipython",
    "version": 3
   },
   "file_extension": ".py",
   "mimetype": "text/x-python",
   "name": "python",
   "nbconvert_exporter": "python",
   "pygments_lexer": "ipython3",
   "version": "3.9.13"
  }
 },
 "nbformat": 4,
 "nbformat_minor": 5
}
